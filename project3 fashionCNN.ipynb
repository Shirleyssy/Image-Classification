{
  "nbformat": 4,
  "nbformat_minor": 0,
  "metadata": {
    "colab": {
      "name": "Copy of fashion.ipynb",
      "provenance": [],
      "collapsed_sections": []
    },
    "kernelspec": {
      "display_name": "Python 3",
      "name": "python3"
    }
  },
  "cells": [
    {
      "cell_type": "code",
      "metadata": {
        "colab": {
          "base_uri": "https://localhost:8080/"
        },
        "id": "x4H_uOpDz-l5",
        "outputId": "4beb5042-27b2-40f7-af53-c753b969fc87"
      },
      "source": [
        "#please mount your google drive if you are using it as your colab disk space.\n",
        "from google.colab import drive\n",
        "drive.mount('/content/gdrive' )"
      ],
      "execution_count": 3,
      "outputs": [
        {
          "output_type": "stream",
          "text": [
            "Mounted at /content/gdrive\n"
          ],
          "name": "stdout"
        }
      ]
    },
    {
      "cell_type": "code",
      "metadata": {
        "colab": {
          "base_uri": "https://localhost:8080/"
        },
        "id": "RsiMKx-_3jLP",
        "outputId": "6f4b35b1-bfa7-41bf-9774-502417da7a9c"
      },
      "source": [
        "#please designate a folder to read and write files for this code. Note that the lowest level folder \"mini3_\" should be the folder that stores our unzipped files\n",
        "%cd '/content/gdrive/MyDrive/Colab Notebooks/mini3_'"
      ],
      "execution_count": 14,
      "outputs": [
        {
          "output_type": "stream",
          "text": [
            "/content/gdrive/MyDrive/Colab Notebooks/mini3_\n"
          ],
          "name": "stdout"
        }
      ]
    },
    {
      "cell_type": "code",
      "metadata": {
        "id": "liI0XGTG44h_"
      },
      "source": [
        "import pickle\n",
        "import matplotlib.pyplot as plt\n",
        "import numpy as np\n",
        "from torchvision import transforms\n",
        "from torch.utils.data import Dataset\n",
        "from torch.utils.data import DataLoader\n",
        "from PIL import Image\n",
        "import torch\n",
        "import cv2\n",
        "from sklearn import metrics\n",
        "import keras\n",
        "from keras.models import Sequential \n",
        "from keras.layers import Dense, Conv2D, Flatten, LeakyReLU, MaxPooling2D, AveragePooling2D, Dropout, Activation,ReLU\n",
        "from tensorflow.keras.callbacks import TensorBoard\n",
        "import time\n",
        "from tensorflow.keras.optimizers import Adam\n",
        "from tensorflow.keras import regularizers\n",
        "import tensorflow as tf\n",
        "import csv\n"
      ],
      "execution_count": 15,
      "outputs": []
    },
    {
      "cell_type": "code",
      "metadata": {
        "colab": {
          "base_uri": "https://localhost:8080/",
          "height": 235
        },
        "id": "oKTZrhpm48Vz",
        "outputId": "a0a1e71e-2684-4b7e-ba09-3d80e86253fa"
      },
      "source": [
        "# Read a pickle file and disply its samples\n",
        "data = pickle.load( open( './Train.pkl', 'rb' ),encoding='bytes')\n",
        "targets = np.genfromtxt('./TrainLabels.csv', delimiter=',', skip_header=1)[:,1:]\n",
        "test_data = pickle.load( open( './Test.pkl', 'rb' ),encoding='bytes')\n",
        "plt.imshow(test_data[31,:,:],cmap='gray', vmin=0, vmax=256)"
      ],
      "execution_count": 16,
      "outputs": [
        {
          "output_type": "execute_result",
          "data": {
            "text/plain": [
              "<matplotlib.image.AxesImage at 0x7f7c37ae0438>"
            ]
          },
          "metadata": {
            "tags": []
          },
          "execution_count": 16
        },
        {
          "output_type": "display_data",
          "data": {
            "image/png": "[encoded data removed]",
            "text/plain": [
              "<Figure size 432x288 with 1 Axes>"
            ]
          },
          "metadata": {
            "tags": [],
            "needs_background": "light"
          }
        }
      ]
    },
    {
      "cell_type": "code",
      "metadata": {
        "id": "Z9AidHnr85JN"
      },
      "source": [
        "#data1 stores the training images\n",
        "data1 = np.zeros((60000,64,128))\n",
        "for i in range(data.shape[0]):\n",
        "  _ = np.divide(data[i,:,:],255)\n",
        "  data1[i,:,:] = np.divide(_-0.5,0.5)\n",
        "#data_test stores the test set images\n",
        "data_test = np.zeros((10000,64,128))\n",
        "for i in range(test_data.shape[0]):\n",
        "  _ = np.divide(test_data[i,:,:],255)\n",
        "  data_test[i,:,:] = np.divide(_-0.5,0.5)"
      ],
      "execution_count": 17,
      "outputs": []
    },
    {
      "cell_type": "code",
      "metadata": {
        "id": "UvB5L5P6fZR2"
      },
      "source": [
        "#this encode function turns the nine categories (5-13) to one hot-coded classes (e.g. [1 0 0 0 0 0 0 0 0] means the first class \"5\")\n",
        "def encode(y):  \n",
        "  value = np.zeros((len(y),9))\n",
        "  for i in range(len(y)):\n",
        "    value[i,int(y[i])-5]=1\n",
        "  return value"
      ],
      "execution_count": 18,
      "outputs": []
    },
    {
      "cell_type": "code",
      "metadata": {
        "id": "GjizkaDgHUcW",
        "colab": {
          "base_uri": "https://localhost:8080/"
        },
        "outputId": "9310c074-f6fc-42d9-b22b-6f5cbc6d65af"
      },
      "source": [
        "#idx read the stored shuffled index for the training examples. A file named idx.csv is stored in the zipped file for this.\n",
        "idx = np.genfromtxt('./idx.csv', dtype='int', delimiter=',')[:]\n",
        "\n",
        "data2 = data1[idx,:,:]\n",
        "targets2 = targets[idx]\n",
        "\n",
        "index = idx.reshape(60000,1)\n",
        "#index = idx\n",
        "#with open('idx.csv','w') as f:\n",
        "    #csv.writer(f).writerows(index)"
      ],
      "execution_count": 21,
      "outputs": [
        {
          "output_type": "stream",
          "text": [
            "<class 'numpy.int64'>\n"
          ],
          "name": "stdout"
        }
      ]
    },
    {
      "cell_type": "code",
      "metadata": {
        "id": "P4yqCjYe0vjz"
      },
      "source": [
        "#reshaping the image for Keras\n",
        "data2 = data2.reshape(-1,64,128,1)\n",
        "data_test=data_test.reshape(-1,64,128,1)\n",
        "#separating training set, validation set and pre-test set.\n",
        "data_train = data2[:59000,:,:,:]\n",
        "y_train = targets2[:59000]\n",
        "y_train_ = y_train\n",
        "y_train = encode(y_train)\n",
        "data_val = data2[-5000:,:,:,:]\n",
        "y_val = targets2[-5000:]\n",
        "y_val_ = encode(y_val)\n",
        "y_val = y_val.T\n",
        "target2 = encode(targets2)"
      ],
      "execution_count": 22,
      "outputs": []
    },
    {
      "cell_type": "code",
      "metadata": {
        "id": "zVW0FpEX3X0E"
      },
      "source": [
        "class convNet():\n",
        "  def __init__(self, X, Y, LR, size, epoch):\n",
        "    self.X = X #training examples\n",
        "    self.Y = Y #targets\n",
        "    self.LR = LR #learning rate for Leaky ReLU\n",
        "    self.size = size #batch size\n",
        "    self.epoch = epoch #number of epochs\n",
        "\n",
        "  def buildConvnet(self, conv, channel, kernel, dense, neuron,l2_lam):\n",
        "    model = Sequential()\n",
        "    l2 = regularizers.l2(l2_lam) #defining the parameter of l2 regularization\n",
        "    \n",
        "    #ading convolutional layers\n",
        "    for i in range(conv):\n",
        "      if i == 0:\n",
        "        #defining the first conv layer (2 convolution + max pooling + 20% dropout). The number of channel is 32.\n",
        "        #first convolution with kernel size of (4,6), activation function of Leaky ReLU and no padding\n",
        "        model.add(Conv2D(channel, kernel_size = (kernel, kernel+2),input_shape=self.X.shape[1:]))\n",
        "        model.add(LeakyReLU(alpha=self.LR))\n",
        "        #second convolution with kernel size of (4,4), activation function of Leaky ReLU and padding\n",
        "        model.add(Conv2D(channel, kernel_size = (kernel, kernel), padding = 'same'))\n",
        "        model.add(LeakyReLU(alpha=self.LR))\n",
        "        #max pooling\n",
        "        model.add(MaxPooling2D((2,4)))\n",
        "        #dropout\n",
        "        model.add(Dropout(0.2))     \n",
        "      else:\n",
        "        #building the second and third convolutional layers (2 convolution + max pooling + 20% dropout). The number of channel of the second and third layers are 64 and 128 respectively.\n",
        "        channel = channel*2\n",
        "        #first convolution with kernel size of (4,4), activation function of Leaky ReLU and padding\n",
        "        model.add(Conv2D(channel, kernel_size = (kernel, kernel), padding = 'same'))\n",
        "        model.add(LeakyReLU(alpha=self.LR))\n",
        "        #second convolution with kernel size of (4,4), activation function of Leaky ReLU and padding\n",
        "        model.add(Conv2D(channel, kernel_size = (kernel, kernel), padding = 'same'))\n",
        "        model.add(LeakyReLU(alpha=self.LR))\n",
        "        #max pooling\n",
        "        model.add(MaxPooling2D((2,2)))\n",
        "        #dropout\n",
        "        model.add(Dropout(0.2))\n",
        "\n",
        "\n",
        "    #this flatten layer transforms 8*8*128 to 1*8192\n",
        "    model.add(Flatten())\n",
        "\n",
        "    #adding dense (partially connected) layers. Each has l2 regularization. 30% dropout. ReLU as the activation function. The number of neurons of the three dense layers are 1350, 330 and 80.\n",
        "    for i in range(dense):  \n",
        "      model.add(Dense(neuron, kernel_regularizer=l2))\n",
        "      model.add(Activation('relu'))\n",
        "      model.add(Dropout(0.3))\n",
        "      neuron = neuron/4\n",
        "\n",
        "    #adding an output layer. The 9 neurons represent 9 classes. Softmax is used.\n",
        "    model.add(Dense(9))\n",
        "    model.add(Activation('softmax'))\n",
        "\n",
        "    #Adam optimizer isused with a learning rate of 0.001 and a decay rate of 6*10E-7\n",
        "    adam = Adam(lr=0.001, decay=6e-7)\n",
        "\n",
        "    #The categorial class entropy is chosen as the loss function.\n",
        "    model.compile(loss = 'categorical_crossentropy',optimizer = adam, metrics = ['accuracy'])\n",
        "\n",
        "    #Here, the model starts to fit the training example with the designated batch size and epoch\n",
        "    cnnf = model.fit(self.X, self.Y,\n",
        "          batch_size=self.size,\n",
        "          epochs=self.epoch,\n",
        "          validation_split=0.02)\n",
        "          #,callbacks=[tensorboard,model_checkpoint_callback])\n",
        "    self.model = model\n",
        "    return cnnf\n",
        "\n",
        "  #predict the input data using the model built.   \n",
        "  def predict(self,val):\n",
        "    prediction = self.model.predict(val)\n",
        "    return(prediction)"
      ],
      "execution_count": 23,
      "outputs": []
    },
    {
      "cell_type": "code",
      "metadata": {
        "id": "JX7jhk3Q5dCZ",
        "colab": {
          "base_uri": "https://localhost:8080/"
        },
        "outputId": "d18d5fa3-3e95-4395-ea61-bf0f8a152a17"
      },
      "source": [
        "#learning rate\n",
        "R = 0.01\n",
        "#batch size\n",
        "size = 1200\n",
        "#number of epochs\n",
        "epoch = 10\n",
        "#number of conv layers\n",
        "conv = [3]\n",
        "#the number of channel for the first conv layer.\n",
        "channel = [32]\n",
        "#the size of kernel\n",
        "kernel = [4]\n",
        "#the number of dense layers\n",
        "dense = [3]\n",
        "#the number of neurons of the first dense layer\n",
        "neuron = [1350]\n",
        "#l2 regularization\n",
        "l2 = [0.0006]\n",
        "los = []\n",
        "for i in conv:\n",
        "  for j in channel:\n",
        "    for k in kernel:\n",
        "      for p in dense:\n",
        "         for q in neuron:\n",
        "            for o in l2:\n",
        "              #starts to fit model\n",
        "              cnn = convNet(data2, target2, LR, size, epoch)\n",
        "              cnnf = cnn.buildConvnet(i,j,k,p,q,o)\n",
        "              for z in range(5):\n",
        "                if cnnf.history['val_accuracy'][-1] <0.0:\n",
        "                  cnn = convNet(data2, target2, LR, size, epoch)\n",
        "                  cnnf = cnn.buildConvnet(i,j,k,p,q,o)\n",
        "            los.append(max(cnnf.history['val_accuracy']))\n"
      ],
      "execution_count": 24,
      "outputs": [
        {
          "output_type": "stream",
          "text": [
            "Epoch 1/10\n",
            " 2/49 [>.............................] - ETA: 7s - loss: 3.9056 - accuracy: 0.1029WARNING:tensorflow:Callbacks method `on_train_batch_end` is slow compared to the batch time (batch time: 0.0199s vs `on_train_batch_end` time: 0.2771s). Check your callbacks.\n",
            "49/49 [==============================] - 15s 303ms/step - loss: 2.7185 - accuracy: 0.1083 - val_loss: 2.2694 - val_accuracy: 0.1042\n",
            "Epoch 2/10\n",
            "49/49 [==============================] - 15s 304ms/step - loss: 2.2274 - accuracy: 0.1098 - val_loss: 2.2076 - val_accuracy: 0.1108\n",
            "Epoch 3/10\n",
            "49/49 [==============================] - 15s 304ms/step - loss: 2.2026 - accuracy: 0.1095 - val_loss: 2.1997 - val_accuracy: 0.1042\n",
            "Epoch 4/10\n",
            "49/49 [==============================] - 15s 304ms/step - loss: 2.1986 - accuracy: 0.1109 - val_loss: 2.1980 - val_accuracy: 0.1108\n",
            "Epoch 5/10\n",
            "49/49 [==============================] - 15s 304ms/step - loss: 2.1976 - accuracy: 0.1106 - val_loss: 2.1976 - val_accuracy: 0.0925\n",
            "Epoch 6/10\n",
            "49/49 [==============================] - 15s 304ms/step - loss: 2.1974 - accuracy: 0.1082 - val_loss: 2.1975 - val_accuracy: 0.0925\n",
            "Epoch 7/10\n",
            "49/49 [==============================] - 15s 304ms/step - loss: 2.1973 - accuracy: 0.1085 - val_loss: 2.1974 - val_accuracy: 0.0925\n",
            "Epoch 8/10\n",
            "49/49 [==============================] - 15s 304ms/step - loss: 2.1973 - accuracy: 0.1093 - val_loss: 2.1974 - val_accuracy: 0.1067\n",
            "Epoch 9/10\n",
            "49/49 [==============================] - 15s 303ms/step - loss: 2.1973 - accuracy: 0.1103 - val_loss: 2.1974 - val_accuracy: 0.1092\n",
            "Epoch 10/10\n",
            "49/49 [==============================] - 15s 303ms/step - loss: 2.1973 - accuracy: 0.1087 - val_loss: 2.1974 - val_accuracy: 0.0925\n"
          ],
          "name": "stdout"
        }
      ]
    },
    {
      "cell_type": "code",
      "metadata": {
        "id": "fCTfJ6_YLwiW",
        "colab": {
          "base_uri": "https://localhost:8080/"
        },
        "outputId": "47b7152d-0c05-4289-d3df-d0affc154566"
      },
      "source": [
        "#for your convenience, we load the train model for you. The file is in the zipped package.\n",
        "cnn.model.load_weights(\"cp/3-conv-32-channel-4-kernel-3-dense-1350-neuron-0.0006-reg\")"
      ],
      "execution_count": 25,
      "outputs": [
        {
          "output_type": "execute_result",
          "data": {
            "text/plain": [
              "<tensorflow.python.training.tracking.util.CheckpointLoadStatus at 0x7f7c37d87e48>"
            ]
          },
          "metadata": {
            "tags": []
          },
          "execution_count": 25
        }
      ]
    },
    {
      "cell_type": "code",
      "metadata": {
        "id": "Dq4TlMSnEu6l"
      },
      "source": [
        "prediction = cnn.predict(data_val)\n",
        "pred_test = np.argmax(prediction, axis=1)\n",
        "pred_test = pred+5"
      ],
      "execution_count": 28,
      "outputs": []
    },
    {
      "cell_type": "code",
      "metadata": {
        "id": "Zoyo8vuISbSE"
      },
      "source": [
        "prediction_test = cnn.predict(data_test)\n",
        "pred = np.argmax(prediction, axis=1)\n",
        "pred = pred+5"
      ],
      "execution_count": 30,
      "outputs": []
    },
    {
      "cell_type": "code",
      "metadata": {
        "colab": {
          "base_uri": "https://localhost:8080/"
        },
        "id": "NTf7EtZhG0EW",
        "outputId": "5e3df0a2-6a4b-49da-b6e5-5c93448d3b68"
      },
      "source": [
        "accu = metrics.accuracy_score(y_val[0], pred)\n",
        "print('The pre-test accuracy is:')\n",
        "print(accu)"
      ],
      "execution_count": 29,
      "outputs": [
        {
          "output_type": "stream",
          "text": [
            "[1.3002258e-31 5.1550430e-16 7.0721229e-23 1.2328873e-09 4.8540628e-08\n",
            " 2.6014769e-07 1.6907221e-07 9.9999952e-01 7.1993593e-09]\n",
            "0.999\n"
          ],
          "name": "stdout"
        }
      ]
    },
    {
      "cell_type": "code",
      "metadata": {
        "id": "yOnzI3MjYxqG"
      },
      "source": [
        "# Exporting the prediction of test dataset to csv file.\n",
        "id = []\n",
        "for i in np.arange(10000):\n",
        "  id.append(i)\n",
        "\n",
        "test_submission = np.array([id,pred_test.T]).T\n",
        "\n",
        "with open('test_result.csv','w') as f:\n",
        "    csv.writer(f).writerows(test_submission)"
      ],
      "execution_count": 31,
      "outputs": []
    }
  ]
}